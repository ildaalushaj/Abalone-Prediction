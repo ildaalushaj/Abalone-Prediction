{
 "cells": [
  {
   "cell_type": "markdown",
   "metadata": {},
   "source": [
    "# Preparing data for classificators "
   ]
  },
  {
   "cell_type": "code",
   "execution_count": 1,
   "metadata": {},
   "outputs": [
    {
     "data": {
      "text/html": [
       "<div>\n",
       "<style scoped>\n",
       "    .dataframe tbody tr th:only-of-type {\n",
       "        vertical-align: middle;\n",
       "    }\n",
       "\n",
       "    .dataframe tbody tr th {\n",
       "        vertical-align: top;\n",
       "    }\n",
       "\n",
       "    .dataframe thead th {\n",
       "        text-align: right;\n",
       "    }\n",
       "</style>\n",
       "<table border=\"1\" class=\"dataframe\">\n",
       "  <thead>\n",
       "    <tr style=\"text-align: right;\">\n",
       "      <th></th>\n",
       "      <th>Sex</th>\n",
       "      <th>Length</th>\n",
       "      <th>Diameter</th>\n",
       "      <th>Height</th>\n",
       "      <th>Whole weight</th>\n",
       "      <th>Shucked weight</th>\n",
       "      <th>Viscera weight</th>\n",
       "      <th>Shell weight</th>\n",
       "      <th>Rings</th>\n",
       "    </tr>\n",
       "  </thead>\n",
       "  <tbody>\n",
       "    <tr>\n",
       "      <th>0</th>\n",
       "      <td>M</td>\n",
       "      <td>0.455</td>\n",
       "      <td>0.365</td>\n",
       "      <td>0.095</td>\n",
       "      <td>0.5140</td>\n",
       "      <td>0.2245</td>\n",
       "      <td>0.1010</td>\n",
       "      <td>0.150</td>\n",
       "      <td>15</td>\n",
       "    </tr>\n",
       "    <tr>\n",
       "      <th>1</th>\n",
       "      <td>M</td>\n",
       "      <td>0.350</td>\n",
       "      <td>0.265</td>\n",
       "      <td>0.090</td>\n",
       "      <td>0.2255</td>\n",
       "      <td>0.0995</td>\n",
       "      <td>0.0485</td>\n",
       "      <td>0.070</td>\n",
       "      <td>7</td>\n",
       "    </tr>\n",
       "    <tr>\n",
       "      <th>2</th>\n",
       "      <td>F</td>\n",
       "      <td>0.530</td>\n",
       "      <td>0.420</td>\n",
       "      <td>0.135</td>\n",
       "      <td>0.6770</td>\n",
       "      <td>0.2565</td>\n",
       "      <td>0.1415</td>\n",
       "      <td>0.210</td>\n",
       "      <td>9</td>\n",
       "    </tr>\n",
       "    <tr>\n",
       "      <th>3</th>\n",
       "      <td>M</td>\n",
       "      <td>0.440</td>\n",
       "      <td>0.365</td>\n",
       "      <td>0.125</td>\n",
       "      <td>0.5160</td>\n",
       "      <td>0.2155</td>\n",
       "      <td>0.1140</td>\n",
       "      <td>0.155</td>\n",
       "      <td>10</td>\n",
       "    </tr>\n",
       "    <tr>\n",
       "      <th>4</th>\n",
       "      <td>I</td>\n",
       "      <td>0.330</td>\n",
       "      <td>0.255</td>\n",
       "      <td>0.080</td>\n",
       "      <td>0.2050</td>\n",
       "      <td>0.0895</td>\n",
       "      <td>0.0395</td>\n",
       "      <td>0.055</td>\n",
       "      <td>7</td>\n",
       "    </tr>\n",
       "  </tbody>\n",
       "</table>\n",
       "</div>"
      ],
      "text/plain": [
       "  Sex  Length  Diameter  Height  Whole weight  Shucked weight  Viscera weight  \\\n",
       "0   M   0.455     0.365   0.095        0.5140          0.2245          0.1010   \n",
       "1   M   0.350     0.265   0.090        0.2255          0.0995          0.0485   \n",
       "2   F   0.530     0.420   0.135        0.6770          0.2565          0.1415   \n",
       "3   M   0.440     0.365   0.125        0.5160          0.2155          0.1140   \n",
       "4   I   0.330     0.255   0.080        0.2050          0.0895          0.0395   \n",
       "\n",
       "   Shell weight  Rings  \n",
       "0         0.150     15  \n",
       "1         0.070      7  \n",
       "2         0.210      9  \n",
       "3         0.155     10  \n",
       "4         0.055      7  "
      ]
     },
     "execution_count": 1,
     "metadata": {},
     "output_type": "execute_result"
    }
   ],
   "source": [
    "# We import the data and add columns\n",
    "import pandas as pd\n",
    "import pandas as pd\n",
    "col_names=['Sex',\"Length\", \"Diameter\", \"Height\", \"Whole weight\", \"Shucked weight\",\n",
    "           \"Viscera weight\", \"Shell weight\", \"Rings\"]\n",
    "df = pd.read_csv(r'C:\\Users\\User\\Desktop\\Masters 1\\MIIAD PROJECT\\abalone',names=col_names)\n",
    "df.head()"
   ]
  },
  {
   "cell_type": "code",
   "execution_count": 2,
   "metadata": {},
   "outputs": [
    {
     "data": {
      "text/html": [
       "<div>\n",
       "<style scoped>\n",
       "    .dataframe tbody tr th:only-of-type {\n",
       "        vertical-align: middle;\n",
       "    }\n",
       "\n",
       "    .dataframe tbody tr th {\n",
       "        vertical-align: top;\n",
       "    }\n",
       "\n",
       "    .dataframe thead th {\n",
       "        text-align: right;\n",
       "    }\n",
       "</style>\n",
       "<table border=\"1\" class=\"dataframe\">\n",
       "  <thead>\n",
       "    <tr style=\"text-align: right;\">\n",
       "      <th></th>\n",
       "      <th>Length</th>\n",
       "      <th>Diameter</th>\n",
       "      <th>Height</th>\n",
       "      <th>Whole weight</th>\n",
       "      <th>Shucked weight</th>\n",
       "      <th>Viscera weight</th>\n",
       "      <th>Shell weight</th>\n",
       "      <th>Rings</th>\n",
       "    </tr>\n",
       "    <tr>\n",
       "      <th>Sex</th>\n",
       "      <th></th>\n",
       "      <th></th>\n",
       "      <th></th>\n",
       "      <th></th>\n",
       "      <th></th>\n",
       "      <th></th>\n",
       "      <th></th>\n",
       "      <th></th>\n",
       "    </tr>\n",
       "  </thead>\n",
       "  <tbody>\n",
       "    <tr>\n",
       "      <th>I</th>\n",
       "      <td>0.427746</td>\n",
       "      <td>0.326494</td>\n",
       "      <td>0.107996</td>\n",
       "      <td>0.431363</td>\n",
       "      <td>0.191035</td>\n",
       "      <td>0.092010</td>\n",
       "      <td>0.128182</td>\n",
       "      <td>7.890462</td>\n",
       "    </tr>\n",
       "    <tr>\n",
       "      <th>M</th>\n",
       "      <td>0.561391</td>\n",
       "      <td>0.439287</td>\n",
       "      <td>0.151381</td>\n",
       "      <td>0.991459</td>\n",
       "      <td>0.432946</td>\n",
       "      <td>0.215545</td>\n",
       "      <td>0.281969</td>\n",
       "      <td>10.705497</td>\n",
       "    </tr>\n",
       "    <tr>\n",
       "      <th>F</th>\n",
       "      <td>0.579093</td>\n",
       "      <td>0.454732</td>\n",
       "      <td>0.158011</td>\n",
       "      <td>1.046532</td>\n",
       "      <td>0.446188</td>\n",
       "      <td>0.230689</td>\n",
       "      <td>0.302010</td>\n",
       "      <td>11.129304</td>\n",
       "    </tr>\n",
       "  </tbody>\n",
       "</table>\n",
       "</div>"
      ],
      "text/plain": [
       "       Length  Diameter    Height  Whole weight  Shucked weight  \\\n",
       "Sex                                                               \n",
       "I    0.427746  0.326494  0.107996      0.431363        0.191035   \n",
       "M    0.561391  0.439287  0.151381      0.991459        0.432946   \n",
       "F    0.579093  0.454732  0.158011      1.046532        0.446188   \n",
       "\n",
       "     Viscera weight  Shell weight      Rings  \n",
       "Sex                                           \n",
       "I          0.092010      0.128182   7.890462  \n",
       "M          0.215545      0.281969  10.705497  \n",
       "F          0.230689      0.302010  11.129304  "
      ]
     },
     "execution_count": 2,
     "metadata": {},
     "output_type": "execute_result"
    }
   ],
   "source": [
    "# We group all our data by Sex column and we sort by their mean of Rings\n",
    "df.groupby('Sex')[['Length', 'Diameter', 'Height', 'Whole weight', 'Shucked weight',\n",
    "       'Viscera weight', 'Shell weight', 'Rings']].mean().sort_values('Rings')"
   ]
  },
  {
   "cell_type": "code",
   "execution_count": 3,
   "metadata": {},
   "outputs": [
    {
     "data": {
      "text/html": [
       "<div>\n",
       "<style scoped>\n",
       "    .dataframe tbody tr th:only-of-type {\n",
       "        vertical-align: middle;\n",
       "    }\n",
       "\n",
       "    .dataframe tbody tr th {\n",
       "        vertical-align: top;\n",
       "    }\n",
       "\n",
       "    .dataframe thead th {\n",
       "        text-align: right;\n",
       "    }\n",
       "</style>\n",
       "<table border=\"1\" class=\"dataframe\">\n",
       "  <thead>\n",
       "    <tr style=\"text-align: right;\">\n",
       "      <th></th>\n",
       "      <th>Sex</th>\n",
       "      <th>Length</th>\n",
       "      <th>Diameter</th>\n",
       "      <th>Height</th>\n",
       "      <th>Whole weight</th>\n",
       "      <th>Shucked weight</th>\n",
       "      <th>Viscera weight</th>\n",
       "      <th>Shell weight</th>\n",
       "      <th>Rings</th>\n",
       "      <th>Male</th>\n",
       "      <th>Female</th>\n",
       "      <th>Immature</th>\n",
       "    </tr>\n",
       "  </thead>\n",
       "  <tbody>\n",
       "    <tr>\n",
       "      <th>0</th>\n",
       "      <td>M</td>\n",
       "      <td>0.455</td>\n",
       "      <td>0.365</td>\n",
       "      <td>0.095</td>\n",
       "      <td>0.5140</td>\n",
       "      <td>0.2245</td>\n",
       "      <td>0.1010</td>\n",
       "      <td>0.150</td>\n",
       "      <td>15</td>\n",
       "      <td>1</td>\n",
       "      <td>0</td>\n",
       "      <td>0</td>\n",
       "    </tr>\n",
       "    <tr>\n",
       "      <th>1</th>\n",
       "      <td>M</td>\n",
       "      <td>0.350</td>\n",
       "      <td>0.265</td>\n",
       "      <td>0.090</td>\n",
       "      <td>0.2255</td>\n",
       "      <td>0.0995</td>\n",
       "      <td>0.0485</td>\n",
       "      <td>0.070</td>\n",
       "      <td>7</td>\n",
       "      <td>1</td>\n",
       "      <td>0</td>\n",
       "      <td>0</td>\n",
       "    </tr>\n",
       "    <tr>\n",
       "      <th>2</th>\n",
       "      <td>F</td>\n",
       "      <td>0.530</td>\n",
       "      <td>0.420</td>\n",
       "      <td>0.135</td>\n",
       "      <td>0.6770</td>\n",
       "      <td>0.2565</td>\n",
       "      <td>0.1415</td>\n",
       "      <td>0.210</td>\n",
       "      <td>9</td>\n",
       "      <td>0</td>\n",
       "      <td>1</td>\n",
       "      <td>0</td>\n",
       "    </tr>\n",
       "    <tr>\n",
       "      <th>3</th>\n",
       "      <td>M</td>\n",
       "      <td>0.440</td>\n",
       "      <td>0.365</td>\n",
       "      <td>0.125</td>\n",
       "      <td>0.5160</td>\n",
       "      <td>0.2155</td>\n",
       "      <td>0.1140</td>\n",
       "      <td>0.155</td>\n",
       "      <td>10</td>\n",
       "      <td>1</td>\n",
       "      <td>0</td>\n",
       "      <td>0</td>\n",
       "    </tr>\n",
       "    <tr>\n",
       "      <th>4</th>\n",
       "      <td>I</td>\n",
       "      <td>0.330</td>\n",
       "      <td>0.255</td>\n",
       "      <td>0.080</td>\n",
       "      <td>0.2050</td>\n",
       "      <td>0.0895</td>\n",
       "      <td>0.0395</td>\n",
       "      <td>0.055</td>\n",
       "      <td>7</td>\n",
       "      <td>0</td>\n",
       "      <td>0</td>\n",
       "      <td>1</td>\n",
       "    </tr>\n",
       "  </tbody>\n",
       "</table>\n",
       "</div>"
      ],
      "text/plain": [
       "  Sex  Length  Diameter  Height  Whole weight  Shucked weight  Viscera weight  \\\n",
       "0   M   0.455     0.365   0.095        0.5140          0.2245          0.1010   \n",
       "1   M   0.350     0.265   0.090        0.2255          0.0995          0.0485   \n",
       "2   F   0.530     0.420   0.135        0.6770          0.2565          0.1415   \n",
       "3   M   0.440     0.365   0.125        0.5160          0.2155          0.1140   \n",
       "4   I   0.330     0.255   0.080        0.2050          0.0895          0.0395   \n",
       "\n",
       "   Shell weight  Rings  Male  Female  Immature  \n",
       "0         0.150     15     1       0         0  \n",
       "1         0.070      7     1       0         0  \n",
       "2         0.210      9     0       1         0  \n",
       "3         0.155     10     1       0         0  \n",
       "4         0.055      7     0       0         1  "
      ]
     },
     "execution_count": 3,
     "metadata": {},
     "output_type": "execute_result"
    }
   ],
   "source": [
    "# Our categorical feature is Sex. We normalize it by making it a numerical feature\n",
    "df['Male'] = (df.Sex == 'M') * 1\n",
    "df['Female'] = (df.Sex == 'F') * 1\n",
    "df['Immature'] = (df.Sex == 'I') * 1\n",
    "df.head()"
   ]
  },
  {
   "cell_type": "code",
   "execution_count": 4,
   "metadata": {},
   "outputs": [
    {
     "data": {
      "text/html": [
       "<div>\n",
       "<style scoped>\n",
       "    .dataframe tbody tr th:only-of-type {\n",
       "        vertical-align: middle;\n",
       "    }\n",
       "\n",
       "    .dataframe tbody tr th {\n",
       "        vertical-align: top;\n",
       "    }\n",
       "\n",
       "    .dataframe thead th {\n",
       "        text-align: right;\n",
       "    }\n",
       "</style>\n",
       "<table border=\"1\" class=\"dataframe\">\n",
       "  <thead>\n",
       "    <tr style=\"text-align: right;\">\n",
       "      <th></th>\n",
       "      <th>Length</th>\n",
       "      <th>Diameter</th>\n",
       "      <th>Height</th>\n",
       "      <th>Whole weight</th>\n",
       "      <th>Shucked weight</th>\n",
       "      <th>Viscera weight</th>\n",
       "      <th>Shell weight</th>\n",
       "      <th>Rings</th>\n",
       "      <th>Male</th>\n",
       "      <th>Female</th>\n",
       "      <th>Immature</th>\n",
       "    </tr>\n",
       "  </thead>\n",
       "  <tbody>\n",
       "    <tr>\n",
       "      <th>0</th>\n",
       "      <td>0.455</td>\n",
       "      <td>0.365</td>\n",
       "      <td>0.095</td>\n",
       "      <td>0.5140</td>\n",
       "      <td>0.2245</td>\n",
       "      <td>0.1010</td>\n",
       "      <td>0.150</td>\n",
       "      <td>15</td>\n",
       "      <td>1</td>\n",
       "      <td>0</td>\n",
       "      <td>0</td>\n",
       "    </tr>\n",
       "    <tr>\n",
       "      <th>1</th>\n",
       "      <td>0.350</td>\n",
       "      <td>0.265</td>\n",
       "      <td>0.090</td>\n",
       "      <td>0.2255</td>\n",
       "      <td>0.0995</td>\n",
       "      <td>0.0485</td>\n",
       "      <td>0.070</td>\n",
       "      <td>7</td>\n",
       "      <td>1</td>\n",
       "      <td>0</td>\n",
       "      <td>0</td>\n",
       "    </tr>\n",
       "    <tr>\n",
       "      <th>2</th>\n",
       "      <td>0.530</td>\n",
       "      <td>0.420</td>\n",
       "      <td>0.135</td>\n",
       "      <td>0.6770</td>\n",
       "      <td>0.2565</td>\n",
       "      <td>0.1415</td>\n",
       "      <td>0.210</td>\n",
       "      <td>9</td>\n",
       "      <td>0</td>\n",
       "      <td>1</td>\n",
       "      <td>0</td>\n",
       "    </tr>\n",
       "    <tr>\n",
       "      <th>3</th>\n",
       "      <td>0.440</td>\n",
       "      <td>0.365</td>\n",
       "      <td>0.125</td>\n",
       "      <td>0.5160</td>\n",
       "      <td>0.2155</td>\n",
       "      <td>0.1140</td>\n",
       "      <td>0.155</td>\n",
       "      <td>10</td>\n",
       "      <td>1</td>\n",
       "      <td>0</td>\n",
       "      <td>0</td>\n",
       "    </tr>\n",
       "    <tr>\n",
       "      <th>4</th>\n",
       "      <td>0.330</td>\n",
       "      <td>0.255</td>\n",
       "      <td>0.080</td>\n",
       "      <td>0.2050</td>\n",
       "      <td>0.0895</td>\n",
       "      <td>0.0395</td>\n",
       "      <td>0.055</td>\n",
       "      <td>7</td>\n",
       "      <td>0</td>\n",
       "      <td>0</td>\n",
       "      <td>1</td>\n",
       "    </tr>\n",
       "  </tbody>\n",
       "</table>\n",
       "</div>"
      ],
      "text/plain": [
       "   Length  Diameter  Height  Whole weight  Shucked weight  Viscera weight  \\\n",
       "0   0.455     0.365   0.095        0.5140          0.2245          0.1010   \n",
       "1   0.350     0.265   0.090        0.2255          0.0995          0.0485   \n",
       "2   0.530     0.420   0.135        0.6770          0.2565          0.1415   \n",
       "3   0.440     0.365   0.125        0.5160          0.2155          0.1140   \n",
       "4   0.330     0.255   0.080        0.2050          0.0895          0.0395   \n",
       "\n",
       "   Shell weight  Rings  Male  Female  Immature  \n",
       "0         0.150     15     1       0         0  \n",
       "1         0.070      7     1       0         0  \n",
       "2         0.210      9     0       1         0  \n",
       "3         0.155     10     1       0         0  \n",
       "4         0.055      7     0       0         1  "
      ]
     },
     "execution_count": 4,
     "metadata": {},
     "output_type": "execute_result"
    }
   ],
   "source": [
    "#Now that we added new seperated columns for Sex, we can take it off(drop)  and let only M,I,F\n",
    "df.drop('Sex', axis=1, inplace=True)\n",
    "df.head()"
   ]
  },
  {
   "cell_type": "code",
   "execution_count": 5,
   "metadata": {},
   "outputs": [
    {
     "data": {
      "text/plain": [
       "Length            float64\n",
       "Diameter          float64\n",
       "Height            float64\n",
       "Whole weight      float64\n",
       "Shucked weight    float64\n",
       "Viscera weight    float64\n",
       "Shell weight      float64\n",
       "Rings               int64\n",
       "Male                int32\n",
       "Female              int32\n",
       "Immature            int32\n",
       "dtype: object"
      ]
     },
     "execution_count": 5,
     "metadata": {},
     "output_type": "execute_result"
    }
   ],
   "source": [
    "# We see that all our type of feature are float and int\n",
    "df.dtypes"
   ]
  },
  {
   "cell_type": "code",
   "execution_count": 6,
   "metadata": {},
   "outputs": [
    {
     "data": {
      "text/plain": [
       "Length            0\n",
       "Diameter          0\n",
       "Height            0\n",
       "Whole weight      0\n",
       "Shucked weight    0\n",
       "Viscera weight    0\n",
       "Shell weight      0\n",
       "Rings             0\n",
       "Male              0\n",
       "Female            0\n",
       "Immature          0\n",
       "dtype: int64"
      ]
     },
     "execution_count": 6,
     "metadata": {},
     "output_type": "execute_result"
    }
   ],
   "source": [
    "#Garbage in , garbage out - Check if we have any missing values in the dataset. If yes - they perofrm in model accuracy and we need to through them .\n",
    "df.isnull().sum()"
   ]
  },
  {
   "cell_type": "code",
   "execution_count": 7,
   "metadata": {
    "scrolled": true
   },
   "outputs": [
    {
     "data": {
      "image/png": "[encoded data removed]",
      "text/plain": [
       "<Figure size 432x288 with 1 Axes>"
      ]
     },
     "metadata": {
      "needs_background": "light"
     },
     "output_type": "display_data"
    }
   ],
   "source": [
    "#We build the graph for Viscera Weight depending on its rings)\n",
    "import matplotlib.pyplot as plt\n",
    "\n",
    "var = 'Viscera weight'\n",
    "plt.scatter(x = df[var], y = df['Rings'],)\n",
    "plt.grid(True)"
   ]
  },
  {
   "cell_type": "code",
   "execution_count": 8,
   "metadata": {},
   "outputs": [],
   "source": [
    "# We remove the outliers that dont give us any information\n",
    "df.drop(df[(df['Viscera weight']>0.5)& (df['Rings']<20)].index,inplace=True)\n",
    "df.drop(df[(df['Viscera weight']<0.5)& (df['Rings']>20)].index,inplace=True)\n"
   ]
  },
  {
   "cell_type": "code",
   "execution_count": 9,
   "metadata": {},
   "outputs": [
    {
     "data": {
      "image/png": "[encoded data removed]",
      "text/plain": [
       "<Figure size 432x288 with 1 Axes>"
      ]
     },
     "metadata": {
      "needs_background": "light"
     },
     "output_type": "display_data"
    }
   ],
   "source": [
    "# We build graph for Shell weight and Rings to see how they depend on each other. \n",
    "var='Shell weight'\n",
    "plt.scatter(x=df[var],y=df['Rings'],)\n",
    "plt.grid(True)"
   ]
  },
  {
   "cell_type": "code",
   "execution_count": 10,
   "metadata": {},
   "outputs": [],
   "source": [
    "# We remove the outliers that dont give us any useful information\n",
    "df.drop(df[(df['Shell weight']>0.6) & (df['Rings']<20)].index,inplace=True)\n",
    "df.drop(df[(df['Shell weight']<0.6) & (df['Rings']>20)].index,inplace=True)"
   ]
  },
  {
   "cell_type": "code",
   "execution_count": 11,
   "metadata": {},
   "outputs": [
    {
     "data": {
      "image/png": "[encoded data removed]",
      "text/plain": [
       "<Figure size 432x288 with 1 Axes>"
      ]
     },
     "metadata": {
      "needs_background": "light"
     },
     "output_type": "display_data"
    }
   ],
   "source": [
    "# We build also graph for Shucked Weight and Rings\n",
    "var='Shucked weight'\n",
    "plt.scatter(x=df[var],y=df['Rings'])\n",
    "plt.grid(True)"
   ]
  },
  {
   "cell_type": "code",
   "execution_count": 12,
   "metadata": {},
   "outputs": [],
   "source": [
    "# We remove outliers with no useful information\n",
    "df.drop(df[(df['Shucked weight']>=1.0) & (df['Rings']<20)].index,inplace=True)\n",
    "df.drop(df[(df['Shucked weight']<1.0) & (df['Rings']>20)].index,inplace=True)"
   ]
  },
  {
   "cell_type": "code",
   "execution_count": 13,
   "metadata": {},
   "outputs": [
    {
     "data": {
      "image/png": "[encoded data removed]",
      "text/plain": [
       "<Figure size 432x288 with 1 Axes>"
      ]
     },
     "metadata": {
      "needs_background": "light"
     },
     "output_type": "display_data"
    }
   ],
   "source": [
    "# We build graph of Whole weight and Rings\n",
    "var='Whole weight'\n",
    "plt.scatter(x=df[var],y=df['Rings'])\n",
    "plt.grid(True)"
   ]
  },
  {
   "cell_type": "code",
   "execution_count": 14,
   "metadata": {},
   "outputs": [],
   "source": [
    "# We remove outliers that are not so useful\n",
    "df.drop(df[(df['Whole weight']>=2.0) & (df['Rings']<20)].index,inplace=True)\n",
    "df.drop(df[(df['Whole weight']<2.0) & (df['Rings']>20)].index,inplace=True)"
   ]
  },
  {
   "cell_type": "code",
   "execution_count": 15,
   "metadata": {},
   "outputs": [
    {
     "data": {
      "image/png": "[encoded data removed]",
      "text/plain": [
       "<Figure size 432x288 with 1 Axes>"
      ]
     },
     "metadata": {
      "needs_background": "light"
     },
     "output_type": "display_data"
    }
   ],
   "source": [
    "# We build the graph of Diameter and Rings\n",
    "var = 'Diameter'\n",
    "plt.scatter(x = df[var], y = df['Rings'],)\n",
    "plt.grid(True)"
   ]
  },
  {
   "cell_type": "code",
   "execution_count": 16,
   "metadata": {},
   "outputs": [],
   "source": [
    "# We drop the data which we dont find useful\n",
    "df.drop(df[(df['Diameter']<0.1) & (df['Rings']<2.5)].index,inplace=True)\n",
    "df.drop(df[(df['Diameter']<0.6) & (df['Rings']>20)].index,inplace=True)"
   ]
  },
  {
   "cell_type": "code",
   "execution_count": 17,
   "metadata": {},
   "outputs": [
    {
     "data": {
      "image/png": "[encoded data removed]",
      "text/plain": [
       "<Figure size 432x288 with 1 Axes>"
      ]
     },
     "metadata": {
      "needs_background": "light"
     },
     "output_type": "display_data"
    }
   ],
   "source": [
    "# We build graph for height and Rings\n",
    "var = 'Height'\n",
    "plt.scatter(x = df[var], y = df['Rings'],)\n",
    "plt.grid(True)"
   ]
  },
  {
   "cell_type": "code",
   "execution_count": 18,
   "metadata": {},
   "outputs": [],
   "source": [
    "# We remove unuseful outliers\n",
    "df.drop(df[(df['Height']>0.4) & (df['Rings']<9.5)].index,inplace=True)\n",
    "df.drop(df[(df['Diameter']<1.0) & (df['Rings']>9.5)].index,inplace=True)"
   ]
  },
  {
   "cell_type": "code",
   "execution_count": 19,
   "metadata": {},
   "outputs": [
    {
     "data": {
      "image/png": "[encoded data removed]",
      "text/plain": [
       "<Figure size 432x288 with 1 Axes>"
      ]
     },
     "metadata": {
      "needs_background": "light"
     },
     "output_type": "display_data"
    }
   ],
   "source": [
    "# We build graph of Length and Rings\n",
    "var = 'Length'\n",
    "plt.scatter(x = df[var], y = df['Rings'],)\n",
    "plt.grid(True)"
   ]
  },
  {
   "cell_type": "code",
   "execution_count": 20,
   "metadata": {},
   "outputs": [],
   "source": [
    "# We drop the value of Outliers which are not useful\n",
    "df.drop(df[(df['Length']<0.3) & (df['Rings']<8.2)].index,inplace=True)\n",
    "df.drop(df[(df['Length']<0.8) & (df['Rings']>9.0)].index,inplace=True)\n"
   ]
  },
  {
   "cell_type": "code",
   "execution_count": 21,
   "metadata": {},
   "outputs": [
    {
     "data": {
      "text/plain": [
       "9    686\n",
       "8    560\n",
       "7    373\n",
       "6    216\n",
       "5     43\n",
       "4      5\n",
       "Name: Rings, dtype: int64"
      ]
     },
     "execution_count": 21,
     "metadata": {},
     "output_type": "execute_result"
    }
   ],
   "source": [
    "# We count the value of each ring and we see that some rings give us not too many information\n",
    "df['Rings'].value_counts()"
   ]
  },
  {
   "cell_type": "code",
   "execution_count": 22,
   "metadata": {},
   "outputs": [],
   "source": [
    "# We remove the data that may not be useful\n",
    "to_delete = [4,5,6]"
   ]
  },
  {
   "cell_type": "code",
   "execution_count": 23,
   "metadata": {},
   "outputs": [],
   "source": [
    "\n",
    "for i in to_delete:\n",
    "    df = df.drop(df[(df.Rings == i)].index)"
   ]
  },
  {
   "cell_type": "code",
   "execution_count": 24,
   "metadata": {},
   "outputs": [
    {
     "data": {
      "text/plain": [
       "9    686\n",
       "8    560\n",
       "7    373\n",
       "Name: Rings, dtype: int64"
      ]
     },
     "execution_count": 24,
     "metadata": {},
     "output_type": "execute_result"
    }
   ],
   "source": [
    "#Now we can see that we have only 4 Rings to predict\n",
    "df['Rings'].value_counts()"
   ]
  },
  {
   "cell_type": "code",
   "execution_count": 25,
   "metadata": {},
   "outputs": [],
   "source": [
    "# Before going to classification models, we do a normalization of data by adding train_test_split\n",
    "# Y is our variable that we want to predict, so we define it as y, and all the rest of the feature of dataset is our X\n",
    "from sklearn.model_selection import train_test_split\n",
    "\n",
    "X = df.drop('Rings', axis = 1).values\n",
    "y = df['Rings'].values\n",
    "\n",
    "X_train, X_test, Y_train, Y_test = train_test_split(X, y, test_size=0.35)"
   ]
  },
  {
   "cell_type": "markdown",
   "metadata": {},
   "source": [
    "# Classification models"
   ]
  },
  {
   "cell_type": "markdown",
   "metadata": {},
   "source": [
    "## Model №1: SVM"
   ]
  },
  {
   "cell_type": "code",
   "execution_count": 26,
   "metadata": {},
   "outputs": [
    {
     "name": "stdout",
     "output_type": "stream",
     "text": [
      "Fitting 10 folds for each of 49 candidates, totalling 490 fits\n"
     ]
    },
    {
     "name": "stderr",
     "output_type": "stream",
     "text": [
      "[Parallel(n_jobs=-1)]: Using backend LokyBackend with 4 concurrent workers.\n",
      "[Parallel(n_jobs=-1)]: Done  33 tasks      | elapsed:    9.4s\n",
      "[Parallel(n_jobs=-1)]: Done 154 tasks      | elapsed:   24.0s\n",
      "[Parallel(n_jobs=-1)]: Done 357 tasks      | elapsed:   44.1s\n",
      "[Parallel(n_jobs=-1)]: Done 490 out of 490 | elapsed:   57.7s finished\n",
      "C:\\ProgramData\\Anaconda3\\lib\\site-packages\\sklearn\\model_selection\\_search.py:847: FutureWarning: The parameter 'iid' is deprecated in 0.22 and will be removed in 0.24.\n",
      "  warnings.warn(\n"
     ]
    },
    {
     "data": {
      "text/plain": [
       "({'C': 1.0, 'gamma': 10}, 0.5337704836165706)"
      ]
     },
     "execution_count": 26,
     "metadata": {},
     "output_type": "execute_result"
    }
   ],
   "source": [
    "#Our first model is Support Vector Machine (SVM)\n",
    "#We will perform the Grid Search algorithm(hyperparameter tuning) and see how it can be used to automatically select the best parameters for an algorithm.\n",
    "#we gave params to the test, C(C is the cost of misclassification as correctly) and gamma (Gamma is the parameter of a Gaussian Kernel (to handle non-linear classification) \n",
    "#and Grid Search gave us the best params.\n",
    "from sklearn.model_selection import GridSearchCV\n",
    "from sklearn.svm import SVC\n",
    "svc = SVC()\n",
    "param_test1 = {\n",
    " 'C':[0.01, 0.1, 0.5, 1., 2., 5, 10], \n",
    " 'gamma':[0.01, 0.1, 0.5, 1., 2., 5, 10]\n",
    "}\n",
    "gsearch1 = GridSearchCV(estimator = SVC(), \n",
    "                        param_grid = param_test1, scoring = 'f1_macro',\n",
    "                        n_jobs=-1, iid=False, cv=10, verbose=2)\n",
    "gsearch1.fit(X, y)\n",
    "gsearch1.best_params_, gsearch1.best_score_"
   ]
  },
  {
   "cell_type": "code",
   "execution_count": 27,
   "metadata": {},
   "outputs": [
    {
     "name": "stdout",
     "output_type": "stream",
     "text": [
      "Classification Report: \n",
      "               precision    recall  f1-score   support\n",
      "\n",
      "           7       0.56      0.51      0.53       140\n",
      "           8       0.44      0.38      0.41       185\n",
      "           9       0.63      0.74      0.68       242\n",
      "\n",
      "    accuracy                           0.56       567\n",
      "   macro avg       0.54      0.54      0.54       567\n",
      "weighted avg       0.55      0.56      0.55       567\n",
      "\n",
      "Training Score:  0.5741444866920152\n",
      "Testing Score:  0.562610229276896\n",
      "MSE: 0.6649029982363316\n",
      "Wall time: 241 ms\n"
     ]
    }
   ],
   "source": [
    "%%time\n",
    "# We can after build the Classification report table that give us the values of Rings with their corresponding precision recall and f1_score . \n",
    "# We take also the corresponding values of Training score and testing score and the MSE.\n",
    "from sklearn.metrics import mean_squared_error as MSE\n",
    "from sklearn.metrics import classification_report\n",
    "from sklearn.svm import SVC\n",
    "\n",
    "svc=SVC(gamma=10,C=1.0)\n",
    "svc.fit(X_train,Y_train)\n",
    "Y_pred=svc.predict(X_test)\n",
    "print('Classification Report: \\n', classification_report(Y_test, Y_pred))\n",
    "\n",
    "svc_train_acc = svc.score(X_train, Y_train) \n",
    "print('Training Score: ', svc_train_acc)\n",
    "\n",
    "svc_test_acc = svc.score(X_test, Y_test)\n",
    "print('Testing Score: ', svc_test_acc)\n",
    "error = MSE(Y_test, Y_pred)\n",
    "\n",
    "print(\"MSE:\", error)"
   ]
  },
  {
   "cell_type": "markdown",
   "metadata": {},
   "source": [
    "## Model №2: RandomForestClassifier"
   ]
  },
  {
   "cell_type": "code",
   "execution_count": 28,
   "metadata": {},
   "outputs": [
    {
     "name": "stdout",
     "output_type": "stream",
     "text": [
      "Fitting 10 folds for each of 42 candidates, totalling 420 fits\n"
     ]
    },
    {
     "name": "stderr",
     "output_type": "stream",
     "text": [
      "[Parallel(n_jobs=-1)]: Using backend LokyBackend with 4 concurrent workers.\n",
      "[Parallel(n_jobs=-1)]: Done  33 tasks      | elapsed:    6.2s\n",
      "[Parallel(n_jobs=-1)]: Done 154 tasks      | elapsed:   58.2s\n",
      "[Parallel(n_jobs=-1)]: Done 357 tasks      | elapsed:  3.0min\n",
      "[Parallel(n_jobs=-1)]: Done 420 out of 420 | elapsed:  3.6min finished\n",
      "C:\\ProgramData\\Anaconda3\\lib\\site-packages\\sklearn\\model_selection\\_search.py:847: FutureWarning: The parameter 'iid' is deprecated in 0.22 and will be removed in 0.24.\n",
      "  warnings.warn(\n"
     ]
    },
    {
     "data": {
      "text/plain": [
       "({'max_depth': 3, 'n_estimators': 10}, 0.5386909059783622)"
      ]
     },
     "execution_count": 28,
     "metadata": {},
     "output_type": "execute_result"
    }
   ],
   "source": [
    "# Our second model is Random Forest Classifier. We use Grid search algorithm again to find the best params for our model .\n",
    "#We take as paramters : n_estimators(The number of trees in the forest) and max_depth(The maximum depth of the tree).\n",
    "#n_jobs(The number of jobs to run in parallel. fit, predict, decision_path and apply are all parallelized over the trees.-1 means using all processors.\n",
    "from sklearn.ensemble import RandomForestClassifier\n",
    "\n",
    "param_test2 = {\n",
    " 'n_estimators':[10, 50, 100, 150, 250, 400], \n",
    " 'max_depth': [3, 4, 5, 6, 7, 8, 9]\n",
    "}\n",
    "gsearch2 = GridSearchCV(estimator = RandomForestClassifier(), \n",
    "                        param_grid = param_test2, scoring = 'f1_macro',\n",
    "                        n_jobs=-1, iid=False, cv=10, verbose=2)\n",
    "gsearch2.fit(X, y)\n",
    "gsearch2.best_params_, gsearch2.best_score_\n"
   ]
  },
  {
   "cell_type": "code",
   "execution_count": 29,
   "metadata": {},
   "outputs": [
    {
     "name": "stdout",
     "output_type": "stream",
     "text": [
      "Classification Report: \n",
      "               precision    recall  f1-score   support\n",
      "\n",
      "           7       0.57      0.49      0.53       140\n",
      "           8       0.42      0.35      0.38       185\n",
      "           9       0.61      0.74      0.67       242\n",
      "\n",
      "    accuracy                           0.55       567\n",
      "   macro avg       0.53      0.53      0.53       567\n",
      "weighted avg       0.54      0.55      0.54       567\n",
      "\n",
      "Training Score:  0.5884030418250951\n",
      "Testing Score:  0.5502645502645502\n",
      "MSE: 0.6931216931216931\n",
      "Wall time: 75 ms\n"
     ]
    }
   ],
   "source": [
    "%%time\n",
    "# We can use again the classification report table and use the parameters that rid search values as the best.\n",
    "from sklearn.ensemble import RandomForestClassifier\n",
    "rf=RandomForestClassifier(n_estimators=10,max_depth=3)\n",
    "rf.fit(X_train,Y_train)\n",
    "Y_pred=rf.predict(X_test)\n",
    "\n",
    "print('Classification Report: \\n', classification_report(Y_test, Y_pred))\n",
    "\n",
    "rf_train_acc = rf.score(X_train, Y_train) \n",
    "print('Training Score: ', rf_train_acc)\n",
    "\n",
    "rf_test_acc = rf.score(X_test, Y_test)\n",
    "print('Testing Score: ', rf_test_acc)\n",
    "error = MSE(Y_test, Y_pred)\n",
    "\n",
    "print(\"MSE:\", error)"
   ]
  },
  {
   "cell_type": "markdown",
   "metadata": {},
   "source": [
    "## Model №3: GradBoost"
   ]
  },
  {
   "cell_type": "code",
   "execution_count": 30,
   "metadata": {},
   "outputs": [
    {
     "name": "stdout",
     "output_type": "stream",
     "text": [
      "Fitting 10 folds for each of 210 candidates, totalling 2100 fits\n"
     ]
    },
    {
     "name": "stderr",
     "output_type": "stream",
     "text": [
      "[Parallel(n_jobs=-1)]: Using backend LokyBackend with 4 concurrent workers.\n",
      "[Parallel(n_jobs=-1)]: Done  33 tasks      | elapsed:   21.4s\n",
      "[Parallel(n_jobs=-1)]: Done 154 tasks      | elapsed:  4.1min\n",
      "[Parallel(n_jobs=-1)]: Done 357 tasks      | elapsed: 19.6min\n",
      "[Parallel(n_jobs=-1)]: Done 640 tasks      | elapsed: 37.5min\n",
      "[Parallel(n_jobs=-1)]: Done 1005 tasks      | elapsed: 61.2min\n",
      "[Parallel(n_jobs=-1)]: Done 1450 tasks      | elapsed: 86.1min\n",
      "[Parallel(n_jobs=-1)]: Done 1977 tasks      | elapsed: 113.0min\n",
      "[Parallel(n_jobs=-1)]: Done 2100 out of 2100 | elapsed: 117.8min finished\n",
      "C:\\ProgramData\\Anaconda3\\lib\\site-packages\\sklearn\\model_selection\\_search.py:847: FutureWarning: The parameter 'iid' is deprecated in 0.22 and will be removed in 0.24.\n",
      "  warnings.warn(\n"
     ]
    },
    {
     "data": {
      "text/plain": [
       "({'learning_rate': 0.01, 'max_depth': 3, 'n_estimators': 400},\n",
       " 0.5320544160621445)"
      ]
     },
     "execution_count": 30,
     "metadata": {},
     "output_type": "execute_result"
    }
   ],
   "source": [
    "# Our third model is GradBoosting. We use the Grid search for hyperparameter tuning \n",
    "#n_estimators(The number of boosting stages to perform. Gradient boosting is fairly robust to over-fitting so a large number usually results in better performance.)\n",
    "#max_depth(maximum depth of the individual regression estimators. The maximum depth limits the number of nodes in the tree)\n",
    "#learning_rate(learning rate shrinks the contribution of each tree by learning_rate)\n",
    "from sklearn.ensemble import GradientBoostingClassifier\n",
    "\n",
    "param_test3 = {\n",
    " 'n_estimators':[10, 50, 100, 150, 250, 400], \n",
    " 'max_depth': [3, 4, 5, 6, 7, 8, 9],\n",
    " 'learning_rate': [0.001, 0.01, 0.1, 1, 2]\n",
    "}\n",
    "gsearch3 = GridSearchCV(estimator = GradientBoostingClassifier(), \n",
    "                        param_grid = param_test3, scoring = 'f1_macro',\n",
    "                        n_jobs=-1, iid=False, cv=10, verbose=2)\n",
    "gsearch3.fit(X, y)\n",
    "gsearch3.best_params_, gsearch3.best_score_"
   ]
  },
  {
   "cell_type": "code",
   "execution_count": 31,
   "metadata": {},
   "outputs": [
    {
     "name": "stdout",
     "output_type": "stream",
     "text": [
      "Classification Report: \n",
      "               precision    recall  f1-score   support\n",
      "\n",
      "           7       0.59      0.53      0.56       140\n",
      "           8       0.36      0.34      0.35       185\n",
      "           9       0.60      0.67      0.63       242\n",
      "\n",
      "    accuracy                           0.53       567\n",
      "   macro avg       0.52      0.51      0.51       567\n",
      "weighted avg       0.52      0.53      0.52       567\n",
      "\n",
      "Training Score:  0.6977186311787072\n",
      "Testing Score:  0.5255731922398589\n",
      "MSE: 0.6649029982363316\n",
      "Wall time: 3.72 s\n"
     ]
    }
   ],
   "source": [
    "%%time\n",
    "#We create the classification report table of y_test, y_pred and get the precision,recall,f1_score for each of our Rings.\n",
    "#We can also check the Training and Testing score.\n",
    "rf=GradientBoostingClassifier(n_estimators=400, max_depth=3, learning_rate=0.01)\n",
    "rf.fit(X_train,Y_train)\n",
    "Y_pred=rf.predict(X_test)\n",
    "\n",
    "print('Classification Report: \\n', classification_report(Y_test, Y_pred))\n",
    "\n",
    "rf_train_acc = rf.score(X_train, Y_train) \n",
    "print('Training Score: ', rf_train_acc)\n",
    "\n",
    "rf_test_acc = rf.score(X_test, Y_test)\n",
    "print('Testing Score: ', rf_test_acc)\n",
    "error = MSE(Y_test, Y_pred)\n",
    "\n",
    "print(\"MSE:\", error)"
   ]
  },
  {
   "cell_type": "markdown",
   "metadata": {},
   "source": [
    "## Model №4: KNN\n",
    "\n"
   ]
  },
  {
   "cell_type": "code",
   "execution_count": 32,
   "metadata": {},
   "outputs": [
    {
     "name": "stdout",
     "output_type": "stream",
     "text": [
      "Fitting 10 folds for each of 30 candidates, totalling 300 fits\n"
     ]
    },
    {
     "name": "stderr",
     "output_type": "stream",
     "text": [
      "[Parallel(n_jobs=-1)]: Using backend LokyBackend with 4 concurrent workers.\n",
      "[Parallel(n_jobs=-1)]: Done  34 tasks      | elapsed:    3.5s\n",
      "[Parallel(n_jobs=-1)]: Done 300 out of 300 | elapsed:    5.0s finished\n",
      "C:\\ProgramData\\Anaconda3\\lib\\site-packages\\sklearn\\model_selection\\_search.py:847: FutureWarning: The parameter 'iid' is deprecated in 0.22 and will be removed in 0.24.\n",
      "  warnings.warn(\n"
     ]
    },
    {
     "data": {
      "text/plain": [
       "({'metric': 'minkowski', 'n_neighbors': 8, 'weights': 'uniform'},\n",
       " 0.5145910538232238)"
      ]
     },
     "execution_count": 32,
     "metadata": {},
     "output_type": "execute_result"
    }
   ],
   "source": [
    "#Our 4 model is KNN . we build again the grid seach model to find the best parameters.\n",
    "#n_neigbors(Number of neighbors to use by default for kneighbors queries.)\n",
    "#metric(the distance metric to use for the tree.)\n",
    "#weights(weight function used in prediction. 1-uniform,2-distance)\n",
    "\n",
    "from sklearn.model_selection import GridSearchCV\n",
    "from sklearn.neighbors import KNeighborsClassifier\n",
    "knn=KNeighborsClassifier(n_neighbors=3)\n",
    "param_test4 ={'n_neighbors': ([5, 6, 7, 8, 9]), \n",
    "              'metric': ['minkowski', 'euclidean', 'manhattan'],\n",
    "              'weights': ['uniform', 'distance']}\n",
    "gsearch4 = GridSearchCV(estimator = KNeighborsClassifier(), \n",
    "                        param_grid = param_test4, scoring = 'f1_macro',\n",
    "                        n_jobs=-1, iid=False, cv=10, verbose=2)\n",
    "gsearch4.fit(X, y)\n",
    "gsearch4.best_params_, gsearch4.best_score_"
   ]
  },
  {
   "cell_type": "code",
   "execution_count": 33,
   "metadata": {},
   "outputs": [
    {
     "name": "stdout",
     "output_type": "stream",
     "text": [
      "Classification Report: \n",
      "               precision    recall  f1-score   support\n",
      "\n",
      "           7       0.51      0.61      0.56       140\n",
      "           8       0.39      0.38      0.39       185\n",
      "           9       0.61      0.55      0.58       242\n",
      "\n",
      "    accuracy                           0.51       567\n",
      "   macro avg       0.50      0.51      0.51       567\n",
      "weighted avg       0.51      0.51      0.51       567\n",
      "\n",
      "Training Score:  0.6169201520912547\n",
      "Testing Score:  0.5114638447971781\n",
      "MSE: 0.7689594356261023\n",
      "Wall time: 165 ms\n"
     ]
    }
   ],
   "source": [
    "%%time\n",
    "# We build the knn model and find results using classification report\n",
    "from sklearn.metrics import classification_report\n",
    "\n",
    "knn=KNeighborsClassifier(algorithm='auto', leaf_size=30, metric='minkowski',\n",
    "           metric_params=None, n_neighbors=8, p=2, weights='uniform')\n",
    "knn.fit(X_train,Y_train)\n",
    "Y_pred=knn.predict(X_test)\n",
    "\n",
    "print('Classification Report: \\n', classification_report(Y_test, Y_pred))\n",
    "\n",
    "knn_train_acc = knn.score(X_train, Y_train) \n",
    "print('Training Score: ', knn_train_acc)\n",
    "\n",
    "knn_test_acc = knn.score(X_test, Y_test)\n",
    "print('Testing Score: ', knn_test_acc)\n",
    "\n",
    "error = MSE(Y_test, Y_pred)\n",
    "\n",
    "print(\"MSE:\", error)"
   ]
  },
  {
   "cell_type": "code",
   "execution_count": 37,
   "metadata": {},
   "outputs": [],
   "source": [
    "headers = ['Model', \"Training_Score\", \"Testing_Score\",\n",
    "          \"MSE\",\"Wall_time(Lenovo_Thinkpad(i5-5300U))\"]\n",
    "\n",
    "tabledata = [[\"SVM\", 0.57, 0.56, 0.66, \"241 ms\"], \n",
    "            [\"RandomForestClassifier\", 0.58, 0.55,  0.69, \"75 ms\"],\n",
    "            [\"GradientBoosting\",0.69 ,0.52,0.66, \"3.72 s\" ],\n",
    "            [\"KNN\", 0.61, 0.51, 0.76 ,\"165 ms\"]]"
   ]
  },
  {
   "cell_type": "code",
   "execution_count": 50,
   "metadata": {},
   "outputs": [],
   "source": [
    "\n",
    "from IPython.display import HTML, display\n",
    "\n",
    "def dataToTable(data, columns = None):\n",
    "    if len(data) == 0 :  \n",
    "        display(HTML('<b>Нет данных</b>'))\n",
    "        return\n",
    "    \n",
    "    hdr = ''\n",
    "    if columns != None:\n",
    "        for col in columns:\n",
    "            hdr = hdr + '<th>' + col + '</th>'\n",
    "            \n",
    "        hdr = '<tr>' + hdr + '</tr>'\n",
    "\n",
    "    dt = ''\n",
    "    for row in data: \n",
    "        dt = dt + '<tr>'\n",
    "        for cell in row: \n",
    "            dt = dt + '<td>' + str(cell) + '</td>'\n",
    "        dt = dt + '</tr>'\n",
    "            \n",
    "    display(HTML('<table>' + hdr + dt + '</table>'))"
   ]
  },
  {
   "cell_type": "code",
   "execution_count": 51,
   "metadata": {},
   "outputs": [
    {
     "data": {
      "text/html": [
       "<table><tr><th>Model</th><th>Training_Score</th><th>Testing_Score</th><th>MSE</th><th>Wall_time(Lenovo_Thinkpad(i5-5300U))</th></tr><tr><td>SVM</td><td>0.57</td><td>0.56</td><td>0.66</td><td>241 ms</td></tr><tr><td>RandomForestClassifier</td><td>0.58</td><td>0.55</td><td>0.69</td><td>75 ms</td></tr><tr><td>GradientBoosting</td><td>0.69</td><td>0.52</td><td>0.66</td><td>3.72 s</td></tr><tr><td>KNN</td><td>0.61</td><td>0.51</td><td>0.76</td><td>165 ms</td></tr></table>"
      ],
      "text/plain": [
       "<IPython.core.display.HTML object>"
      ]
     },
     "metadata": {},
     "output_type": "display_data"
    }
   ],
   "source": [
    "dataToTable(tabledata, headers)"
   ]
  },
  {
   "cell_type": "markdown",
   "metadata": {},
   "source": [
    "# Сравнении задач классификации и регрессии на большем количестве классов"
   ]
  },
  {
   "cell_type": "markdown",
   "metadata": {},
   "source": [
    "## Подготовка данных"
   ]
  },
  {
   "cell_type": "code",
   "execution_count": null,
   "metadata": {},
   "outputs": [],
   "source": [
    "import pandas as pd\n",
    "\n",
    "df = pd.read_csv(r'C:\\Users\\Даниил\\Desktop\\abalone\\abalone_csv.csv')\n",
    "df['Male'] = (df.Sex == 'M') * 1\n",
    "df['Female'] = (df.Sex == 'F') * 1\n",
    "df['Infant'] = (df.Sex == 'I') * 1\n",
    "df.drop('Sex', axis=1, inplace=True)\n",
    "df['Class_number_of_rings'] = df.Class_number_of_rings * 1."
   ]
  },
  {
   "cell_type": "markdown",
   "metadata": {},
   "source": [
    "Здесь удаляем лишь наиболее редковстречающиеся классы"
   ]
  },
  {
   "cell_type": "code",
   "execution_count": null,
   "metadata": {},
   "outputs": [],
   "source": [
    "to_delete = [29, 26, 2, 25, 1, 27, 24, 22, 23]\n",
    "\n",
    "for i in to_delete:\n",
    "    df = df.drop(df[(df.Class_number_of_rings == i)].index)\n",
    "df['Class_number_of_rings'].value_counts()"
   ]
  },
  {
   "cell_type": "markdown",
   "metadata": {},
   "source": [
    "Разделяем датасет на тренировочную и тестовую выборку и нормализируем признаки"
   ]
  },
  {
   "cell_type": "code",
   "execution_count": null,
   "metadata": {},
   "outputs": [],
   "source": [
    "from sklearn.model_selection import train_test_split\n",
    "from sklearn.preprocessing import StandardScaler\n",
    "\n",
    "\n",
    "X = df.drop('Class_number_of_rings', axis = 1).values\n",
    "Y = df['Class_number_of_rings'].values\n",
    "\n",
    "X_train, X_test, Y_train, Y_test = train_test_split(X, Y, test_size=0.35)\n",
    "\n",
    "scaler = StandardScaler()\n",
    "X_train = scaler.fit_transform(X_train)\n",
    "X_test = scaler.transform(X_test)"
   ]
  },
  {
   "cell_type": "markdown",
   "metadata": {},
   "source": [
    "## Линейные модели"
   ]
  },
  {
   "cell_type": "markdown",
   "metadata": {},
   "source": [
    "### Классификатор"
   ]
  },
  {
   "cell_type": "code",
   "execution_count": null,
   "metadata": {},
   "outputs": [],
   "source": [
    "%%time\n",
    "\n",
    "from sklearn.linear_model import LogisticRegression\n",
    "\n",
    "\n",
    "lr=LogisticRegression()\n",
    "lr.fit(X_train,Y_train)\n",
    "Y_pred=lr.predict(X_test)\n",
    "\n",
    "\n",
    "lr_test_acc=lr.score(X_test,Y_test)\n",
    "print('Accuracy:',lr_test_acc)"
   ]
  },
  {
   "cell_type": "markdown",
   "metadata": {},
   "source": [
    "### Регрессор "
   ]
  },
  {
   "cell_type": "code",
   "execution_count": null,
   "metadata": {},
   "outputs": [],
   "source": [
    "%%time\n",
    "\n",
    "from sklearn.linear_model import LinearRegression\n",
    "from sklearn.metrics import mean_squared_error as MSE\n",
    "\n",
    "l_model = LinearRegression()\n",
    "l_model.fit(X_train, Y_train)\n",
    "prediction = l_model.predict(X_test)\n",
    "error = MSE(Y_test, prediction)\n",
    "\n",
    "print(\"MSE:\", error)"
   ]
  },
  {
   "cell_type": "markdown",
   "metadata": {},
   "source": [
    "Посчитаем долю верных ответов на тестовой выборке, округлив предсказанные значения"
   ]
  },
  {
   "cell_type": "code",
   "execution_count": 15,
   "metadata": {},
   "outputs": [
    {
     "name": "stdout",
     "output_type": "stream",
     "text": [
      "Accuracy: 0.24277854195323245\n"
     ]
    }
   ],
   "source": [
    "for j, i in enumerate(prediction):\n",
    "    i = round(i)\n",
    "    prediction[j] = i\n",
    "    \n",
    "k = 0\n",
    "for i in range(len(prediction)):\n",
    "    if Y_test[i] == prediction[i]:\n",
    "        k += 1\n",
    "print(\"Accuracy:\", k / len(prediction))"
   ]
  },
  {
   "cell_type": "markdown",
   "metadata": {},
   "source": [
    "## Random Forest"
   ]
  },
  {
   "cell_type": "markdown",
   "metadata": {},
   "source": [
    "### Классификатор"
   ]
  },
  {
   "cell_type": "code",
   "execution_count": 16,
   "metadata": {},
   "outputs": [
    {
     "name": "stdout",
     "output_type": "stream",
     "text": [
      "Accuracy:  0.28060522696011003\n",
      "Wall time: 448 ms\n"
     ]
    }
   ],
   "source": [
    "%%time\n",
    "\n",
    "from sklearn.ensemble import RandomForestClassifier\n",
    "\n",
    "\n",
    "rf=RandomForestClassifier(n_estimators=150,max_depth=4)\n",
    "rf.fit(X_train,Y_train)\n",
    "Y_pred=rf.predict(X_test)\n",
    "\n",
    "\n",
    "rf_test_acc = rf.score(X_test, Y_test)\n",
    "print('Accuracy: ', rf_test_acc)"
   ]
  },
  {
   "cell_type": "markdown",
   "metadata": {},
   "source": [
    "### Регрессор"
   ]
  },
  {
   "cell_type": "code",
   "execution_count": 17,
   "metadata": {},
   "outputs": [
    {
     "name": "stdout",
     "output_type": "stream",
     "text": [
      "MSE: 4.305987310766452\n",
      "Wall time: 546 ms\n"
     ]
    }
   ],
   "source": [
    "%%time \n",
    "\n",
    "from sklearn.ensemble import RandomForestRegressor\n",
    "rf=RandomForestRegressor(n_estimators=150,max_depth=4)\n",
    "\n",
    "rf.fit(X_train,Y_train)\n",
    "prediction=rf.predict(X_test)\n",
    "error = MSE(Y_test, prediction)\n",
    "print(\"MSE:\", error)"
   ]
  },
  {
   "cell_type": "code",
   "execution_count": 19,
   "metadata": {},
   "outputs": [
    {
     "name": "stdout",
     "output_type": "stream",
     "text": [
      "Accuracy: 0.23383768913342504\n"
     ]
    }
   ],
   "source": [
    "for j, i in enumerate(prediction):\n",
    "    i = round(i)\n",
    "    prediction[j] = i\n",
    "    \n",
    "k = 0\n",
    "for i in range(len(prediction)):\n",
    "    if Y_test[i] == prediction[i]:\n",
    "        k += 1\n",
    "print(\"Accuracy:\", k / len(prediction))"
   ]
  },
  {
   "cell_type": "markdown",
   "metadata": {},
   "source": [
    "## Градиентный бустинг"
   ]
  },
  {
   "cell_type": "markdown",
   "metadata": {},
   "source": [
    "### Классификатор "
   ]
  },
  {
   "cell_type": "code",
   "execution_count": 37,
   "metadata": {},
   "outputs": [
    {
     "name": "stdout",
     "output_type": "stream",
     "text": [
      "Accuracy:  0.26478679504814306\n",
      "Wall time: 23.3 s\n"
     ]
    }
   ],
   "source": [
    "%%time\n",
    "\n",
    "from sklearn.ensemble import GradientBoostingClassifier\n",
    "\n",
    "\n",
    "gb=GradientBoostingClassifier(n_estimators=400, max_depth=4, learning_rate=0.01)\n",
    "gb.fit(X_train,Y_train)\n",
    "Y_pred=gb.predict(X_test)\n",
    "\n",
    "gb_test_acc = gb.score(X_test, Y_test)\n",
    "print('Accuracy: ', gb_test_acc)"
   ]
  },
  {
   "cell_type": "markdown",
   "metadata": {},
   "source": [
    "### Регрессор"
   ]
  },
  {
   "cell_type": "code",
   "execution_count": 25,
   "metadata": {},
   "outputs": [
    {
     "name": "stdout",
     "output_type": "stream",
     "text": [
      "MSE: 3.9578240946919103\n",
      "Wall time: 1.05 s\n"
     ]
    }
   ],
   "source": [
    "%%time\n",
    "\n",
    "from sklearn.ensemble import GradientBoostingRegressor\n",
    "rf=GradientBoostingRegressor(n_estimators=400, max_depth=5, learning_rate=0.01)\n",
    "\n",
    "rf.fit(X_train,Y_train)\n",
    "prediction=rf.predict(X_test)\n",
    "error = MSE(Y_test, prediction)\n",
    "print(\"MSE:\", error)"
   ]
  },
  {
   "cell_type": "code",
   "execution_count": 26,
   "metadata": {},
   "outputs": [
    {
     "name": "stdout",
     "output_type": "stream",
     "text": [
      "Accuracy: 0.25722145804676755\n"
     ]
    }
   ],
   "source": [
    "for j, i in enumerate(prediction):\n",
    "    i = round(i)\n",
    "    prediction[j] = i\n",
    "    \n",
    "k = 0\n",
    "for i in range(len(prediction)):\n",
    "    if Y_test[i] == prediction[i]:\n",
    "        k += 1\n",
    "print(\"Accuracy:\", k / len(prediction))"
   ]
  },
  {
   "cell_type": "markdown",
   "metadata": {},
   "source": [
    "## Результаты:"
   ]
  },
  {
   "cell_type": "code",
   "execution_count": 38,
   "metadata": {},
   "outputs": [],
   "source": [
    "headers = ['Модель', \"Доля верных ответов\", \"Скорость обучения и тестирования (Ryzen2600)\",\n",
    "          \"Среднеквадратичная ошибка (для регрессоров)\"]\n",
    "\n",
    "tabledata = [[\"LogReg\", 0.268, \"93.2 ms\", \"-\"], \n",
    "            [\"LinReg\", 0.242, \"2 ms\", \"4.204\"],\n",
    "            [\"RanForClass\", 0.280, \"448 ms\", \"-\"],\n",
    "            [\"RanForReg\", 0.233, \"546 ms\", 4.305],\n",
    "            [\"GradBoostClass\", 0.264, \"23.3 s\", \"-\"],\n",
    "            [\"GradBoostReg\", 0.257, \"1.05 s\", 3.957]]"
   ]
  },
  {
   "cell_type": "code",
   "execution_count": 39,
   "metadata": {},
   "outputs": [],
   "source": [
    "def dataToTable(data, columns = None):\n",
    "    if len(data) == 0 :  \n",
    "        display(HTML('<b>Нет данных</b>'))\n",
    "        return\n",
    "    \n",
    "    hdr = ''\n",
    "    if columns != None:\n",
    "        for col in columns:\n",
    "            hdr = hdr + '<th>' + col + '</th>'\n",
    "            \n",
    "        hdr = '<tr>' + hdr + '</tr>'\n",
    "\n",
    "    dt = ''\n",
    "    for row in data: \n",
    "        dt = dt + '<tr>'\n",
    "        for cell in row: \n",
    "            dt = dt + '<td>' + str(cell) + '</td>'\n",
    "        dt = dt + '</tr>'\n",
    "            \n",
    "    display(HTML('<table>' + hdr + dt + '</table>'))"
   ]
  },
  {
   "cell_type": "code",
   "execution_count": 40,
   "metadata": {},
   "outputs": [
    {
     "data": {
      "text/html": [
       "<table><tr><th>Модель</th><th>Доля верных ответов</th><th>Скорость обучения и тестирования (Ryzen2600)</th><th>Среднеквадратичная ошибка (для регрессоров)</th></tr><tr><td>LogReg</td><td>0.268</td><td>93.2 ms</td><td>-</td></tr><tr><td>LinReg</td><td>0.242</td><td>2 ms</td><td>4.204</td></tr><tr><td>RanForClass</td><td>0.28</td><td>448 ms</td><td>-</td></tr><tr><td>RanForReg</td><td>0.233</td><td>546 ms</td><td>4.305</td></tr><tr><td>GradBoostClass</td><td>0.264</td><td>23.3 s</td><td>-</td></tr><tr><td>GradBoostReg</td><td>0.257</td><td>1.05 s</td><td>3.957</td></tr></table>"
      ],
      "text/plain": [
       "<IPython.core.display.HTML object>"
      ]
     },
     "metadata": {},
     "output_type": "display_data"
    }
   ],
   "source": [
    "dataToTable(tabledata, headers)"
   ]
  },
  {
   "cell_type": "code",
   "execution_count": null,
   "metadata": {},
   "outputs": [],
   "source": []
  }
 ],
 "metadata": {
  "kernelspec": {
   "display_name": "Python 3",
   "language": "python",
   "name": "python3"
  },
  "language_info": {
   "codemirror_mode": {
    "name": "ipython",
    "version": 3
   },
   "file_extension": ".py",
   "mimetype": "text/x-python",
   "name": "python",
   "nbconvert_exporter": "python",
   "pygments_lexer": "ipython3",
   "version": "3.8.3"
  }
 },
 "nbformat": 4,
 "nbformat_minor": 2
}
